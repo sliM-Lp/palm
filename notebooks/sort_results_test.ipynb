{
 "cells": [
  {
   "cell_type": "code",
   "execution_count": 2,
   "metadata": {},
   "outputs": [],
   "source": [
    "import os\n",
    "import sys\n",
    "import torch\n",
    "import operator"
   ]
  },
  {
   "cell_type": "code",
   "execution_count": 4,
   "metadata": {},
   "outputs": [],
   "source": [
    "folder_name = sys.argv[1]\n",
    "working_dir = '/scicore/home/schwede/pantol0000/repositories/alphabeta_classic/SCOP40_benchmark_results'"
   ]
  },
  {
   "cell_type": "code",
   "execution_count": 6,
   "metadata": {},
   "outputs": [],
   "source": [
    "def order_files(path, score_type = 'EBA_min'):\n",
    "\n",
    "    scores = torch.load(path,weights_only=False)\n",
    "    single_score = {s:scores[s][score_type] for s in scores}\n",
    "    sorted_scores = sorted(single_score.items(), key=operator.itemgetter(1), reverse=True)\n",
    "\n",
    "    labels = [x[0] for x in sorted_scores]\n",
    "    similarities = [x[1] for x in sorted_scores]\n",
    "\n",
    "    return labels, similarities"
   ]
  },
  {
   "cell_type": "code",
   "execution_count": 23,
   "metadata": {},
   "outputs": [],
   "source": [
    "results_path = os.path.join(working_dir,'kmean_40')"
   ]
  },
  {
   "cell_type": "code",
   "execution_count": null,
   "metadata": {},
   "outputs": [
    {
     "name": "stdout",
     "output_type": "stream",
     "text": [
      "z1\n"
     ]
    }
   ],
   "source": [
    "for dir in os.listdir(results_path):\n",
    "    files_path = f'{results_path}/{dir}'\n",
    "    print(dir)\n",
    "    sorted_file = f'{results_path}/{dir}_sorted_scores.tsv'\n",
    "    with open(sorted_file, 'w') as output_file:\n",
    "        for file in os.listdir(files_path):\n",
    "            n=100\n",
    "            scores_path = f'{files_path}/{file}'\n",
    "            labels, similarities = order_files(scores_path, score_type = 'EBA_min')\n",
    "            for idx,l in enumerate(labels):\n",
    "                file_id = file.split('.pt')[0]\n",
    "                output_file.write(f'{file_id}\\t{l}\\t{similarities[idx]}\\n')\n",
    "                n-=1\n",
    "                if n<0:\n",
    "                    break\n",
    "\n"
   ]
  },
  {
   "cell_type": "code",
   "execution_count": null,
   "metadata": {},
   "outputs": [],
   "source": [
    "results_path = os.path.join(working_dir,'EBA/ProtT5')\n",
    "sorted_file = f'{working_dir}/EBA_ProtT5.tsv'\n",
    "with open(sorted_file, 'w') as output_file:\n",
    "    for file in os.listdir(results_path):\n",
    "        # n=100\n",
    "        scores_path = f'{results_path}/{file}'\n",
    "        labels, similarities = order_files(scores_path, score_type = 'EBA_min')\n",
    "        for idx,l in enumerate(labels):\n",
    "            file_id = file.split('.pt')[0]\n",
    "            output_file.write(f'{file_id}\\t{l}\\t{similarities[idx]}\\n')\n",
    "            # n-=1\n",
    "            # if n<0:\n",
    "            #     break\n"
   ]
  },
  {
   "cell_type": "code",
   "execution_count": null,
   "metadata": {},
   "outputs": [],
   "source": []
  },
  {
   "cell_type": "code",
   "execution_count": null,
   "metadata": {},
   "outputs": [
    {
     "name": "stderr",
     "output_type": "stream",
     "text": [
      "/scratch/ipykernel_3667336/3870332782.py:6: FutureWarning: You are using `torch.load` with `weights_only=False` (the current default value), which uses the default pickle module implicitly. It is possible to construct malicious pickle data which will execute arbitrary code during unpickling (See https://github.com/pytorch/pytorch/blob/main/SECURITY.md#untrusted-models for more details). In a future release, the default value for `weights_only` will be flipped to `True`. This limits the functions that could be executed during unpickling. Arbitrary objects will no longer be allowed to be loaded via this mode unless they are explicitly allowlisted by the user via `torch.serialization.add_safe_globals`. We recommend you start setting `weights_only=True` for any use case where you don't have full control of the loaded file. Please open an issue on GitHub for any issues related to this experimental feature.\n",
      "  scores = torch.load(path)\n"
     ]
    }
   ],
   "source": [
    "example_path = os.path.join(working_dir, 'kmean_20/c0/d1aiwa_.pt')\n",
    "labels, similarities = order_files(example_path)"
   ]
  },
  {
   "cell_type": "code",
   "execution_count": null,
   "metadata": {},
   "outputs": [],
   "source": []
  }
 ],
 "metadata": {
  "kernelspec": {
   "display_name": "eba",
   "language": "python",
   "name": "python3"
  },
  "language_info": {
   "codemirror_mode": {
    "name": "ipython",
    "version": 3
   },
   "file_extension": ".py",
   "mimetype": "text/x-python",
   "name": "python",
   "nbconvert_exporter": "python",
   "pygments_lexer": "ipython3",
   "version": "3.9.19"
  }
 },
 "nbformat": 4,
 "nbformat_minor": 2
}
