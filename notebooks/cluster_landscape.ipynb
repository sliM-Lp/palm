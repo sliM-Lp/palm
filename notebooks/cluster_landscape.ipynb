{
 "cells": [
  {
   "cell_type": "code",
   "execution_count": 2,
   "metadata": {},
   "outputs": [],
   "source": [
    "import torch\n",
    "import os\n",
    "from scipy.cluster.vq import kmeans2\n",
    "from sklearn.cluster import kmeans_plusplus\n",
    "from sklearn.cluster import SpectralClustering\n",
    "from matplotlib import pyplot as plt\n",
    "import torch.nn.functional as F"
   ]
  },
  {
   "cell_type": "code",
   "execution_count": 3,
   "metadata": {},
   "outputs": [
    {
     "name": "stderr",
     "output_type": "stream",
     "text": [
      "/scratch/ipykernel_221356/3220096321.py:3: FutureWarning: You are using `torch.load` with `weights_only=False` (the current default value), which uses the default pickle module implicitly. It is possible to construct malicious pickle data which will execute arbitrary code during unpickling (See https://github.com/pytorch/pytorch/blob/main/SECURITY.md#untrusted-models for more details). In a future release, the default value for `weights_only` will be flipped to `True`. This limits the functions that could be executed during unpickling. Arbitrary objects will no longer be allowed to be loaded via this mode unless they are explicitly allowlisted by the user via `torch.serialization.add_safe_globals`. We recommend you start setting `weights_only=True` for any use case where you don't have full control of the loaded file. Please open an issue on GitHub for any issues related to this experimental feature.\n",
      "  embeddings_dict = torch.load(scop_embeddings_path, map_location=torch.device('cpu'))\n"
     ]
    },
    {
     "name": "stdout",
     "output_type": "stream",
     "text": [
      "Landscape of 5305 proteins\n"
     ]
    }
   ],
   "source": [
    "#scop_embeddings_path = '../data/SCOPe40.pt'\n",
    "scop_embeddings_path = '/scicore/home/schwede/pantol0000/repositories/alphabeta_benchmark/SCOPe40_label_transfer/data/embeddings.pt'\n",
    "embeddings_dict = torch.load(scop_embeddings_path, map_location=torch.device('cpu'))\n",
    "print(f\"Landscape of {len(embeddings_dict)} proteins\")"
   ]
  },
  {
   "cell_type": "code",
   "execution_count": 4,
   "metadata": {},
   "outputs": [],
   "source": [
    "reduced_embeddings_dict = dict()\n",
    "n_proteins = 500\n",
    "for k in embeddings_dict:\n",
    "    reduced_embeddings_dict[k] = embeddings_dict[k]\n",
    "    n_proteins-=1\n",
    "    if n_proteins<0:\n",
    "        break"
   ]
  },
  {
   "cell_type": "markdown",
   "metadata": {},
   "source": [
    "### Embedding normalization"
   ]
  },
  {
   "cell_type": "code",
   "execution_count": 5,
   "metadata": {},
   "outputs": [
    {
     "name": "stdout",
     "output_type": "stream",
     "text": [
      "Average tensor([ 0.0306,  0.0228,  0.0157,  ..., -0.0093,  0.0221,  0.0134])\n",
      "Standard deviation tensor([0.2043, 0.1741, 0.2012,  ..., 0.1849, 0.1960, 0.2010])\n"
     ]
    }
   ],
   "source": [
    "standard_embedding_single = dict()\n",
    "standard_embedding_land = dict()\n",
    "\n",
    "sum_embeddings = torch.zeros(1024)\n",
    "sum_squares_embeddings = torch.zeros(1024)\n",
    "total_count = 0\n",
    "\n",
    "for p in reduced_embeddings_dict:\n",
    "    channel_sum = reduced_embeddings_dict[p].sum(dim=0)\n",
    "    channel_squared_sum = (reduced_embeddings_dict[p] ** 2).sum(dim=0)\n",
    "    length = reduced_embeddings_dict[p].size(0)\n",
    "\n",
    "    sum_embeddings += channel_sum\n",
    "    sum_squares_embeddings += channel_squared_sum\n",
    "    total_count += length\n",
    "\n",
    "    single_mean = channel_sum/length\n",
    "    single_std = torch.sqrt( (channel_squared_sum/length) - (single_mean ** 2))\n",
    "    \n",
    "    standard_embedding_single[p] = (reduced_embeddings_dict[p] - single_mean)/single_std\n",
    "\n",
    "mean_per_channel = sum_embeddings / total_count\n",
    "print(f'Average {mean_per_channel}')\n",
    "# Compute the variance for each channel\n",
    "variance_per_channel = (sum_squares_embeddings / total_count) - (mean_per_channel ** 2)\n",
    "# Compute the standard deviation for each channel\n",
    "std_per_channel = torch.sqrt(variance_per_channel)\n",
    "print(f'Standard deviation {std_per_channel}')"
   ]
  },
  {
   "cell_type": "code",
   "execution_count": 6,
   "metadata": {},
   "outputs": [],
   "source": [
    "for p in reduced_embeddings_dict:\n",
    "    standard_embedding_land[p] = (reduced_embeddings_dict[p] - mean_per_channel)/std_per_channel"
   ]
  },
  {
   "cell_type": "code",
   "execution_count": 7,
   "metadata": {},
   "outputs": [],
   "source": [
    "del embeddings_dict"
   ]
  },
  {
   "cell_type": "code",
   "execution_count": null,
   "metadata": {},
   "outputs": [
    {
     "data": {
      "text/plain": [
       "torch.Size([95567, 1024])"
      ]
     },
     "execution_count": 8,
     "metadata": {},
     "output_type": "execute_result"
    },
    {
     "ename": "",
     "evalue": "",
     "output_type": "error",
     "traceback": [
      "\u001b[1;31mThe Kernel crashed while executing code in the current cell or a previous cell. \n",
      "\u001b[1;31mPlease review the code in the cell(s) to identify a possible cause of the failure. \n",
      "\u001b[1;31mClick <a href='https://aka.ms/vscodeJupyterKernelCrash'>here</a> for more info. \n",
      "\u001b[1;31mView Jupyter <a href='command:jupyter.viewOutput'>log</a> for further details."
     ]
    }
   ],
   "source": [
    "tensor_list = [x for x in standard_embedding_single.values()]\n",
    "data_landscape = torch.cat(tensor_list, dim=0)\n",
    "data_landscape.shape"
   ]
  },
  {
   "cell_type": "code",
   "execution_count": null,
   "metadata": {},
   "outputs": [],
   "source": [
    "alphabet_size = 20\n",
    "clustering = SpectralClustering(n_clusters=alphabet_size,\n",
    "        assign_labels='discretize',\n",
    "        random_state=0).fit(data_landscape)"
   ]
  },
  {
   "cell_type": "code",
   "execution_count": null,
   "metadata": {},
   "outputs": [],
   "source": [
    "alphabet_size = 20\n",
    "codebook,labels = kmeans2(data_landscape, alphabet_size, minit='points')"
   ]
  },
  {
   "cell_type": "code",
   "execution_count": 1,
   "metadata": {},
   "outputs": [
    {
     "data": {
      "text/plain": [
       "132"
      ]
     },
     "execution_count": 1,
     "metadata": {},
     "output_type": "execute_result"
    }
   ],
   "source": [
    "len('MKKLLVKELIEQFQDCVNLIDGHTNTSNVIRVPGLKRVVFEMLGLFSSQIGSVAILGKREFGFLSQKTLVEQQQILHNLLKLNPPAIILTKSFTDPTVLLQVNQTYQVPILKTDFFSTELSFTVETYINEQF')"
   ]
  },
  {
   "cell_type": "code",
   "execution_count": null,
   "metadata": {},
   "outputs": [],
   "source": []
  }
 ],
 "metadata": {
  "kernelspec": {
   "display_name": "alphabeta",
   "language": "python",
   "name": "python3"
  },
  "language_info": {
   "codemirror_mode": {
    "name": "ipython",
    "version": 3
   },
   "file_extension": ".py",
   "mimetype": "text/x-python",
   "name": "python",
   "nbconvert_exporter": "python",
   "pygments_lexer": "ipython3",
   "version": "3.11.0"
  }
 },
 "nbformat": 4,
 "nbformat_minor": 2
}
