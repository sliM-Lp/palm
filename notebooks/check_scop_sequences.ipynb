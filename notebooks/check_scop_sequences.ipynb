{
 "cells": [
  {
   "cell_type": "code",
   "execution_count": 48,
   "metadata": {},
   "outputs": [],
   "source": [
    "from Bio.PDB import PDBParser\n",
    "from Bio.PDB.Polypeptide import PPBuilder\n",
    "from Bio.Seq import Seq\n",
    "from Bio.SeqRecord import SeqRecord\n",
    "from Bio.PDB.Polypeptide import three_to_one\n",
    "import os\n"
   ]
  },
  {
   "cell_type": "code",
   "execution_count": 53,
   "metadata": {},
   "outputs": [],
   "source": [
    "\n",
    "def extract_sequence(pdb_file, chain_id=None):\n",
    "    parser = PDBParser()\n",
    "    ppb = PPBuilder()\n",
    "    try: # Add a try-except block to handle potential issues\n",
    "        structure = parser.get_structure(\"protein\", pdb_file)\n",
    "    except Exception as e:\n",
    "        print(f\"Error parsing PDB file {pdb_file}: {e}\")\n",
    "        return None\n",
    "\n",
    "    sequence = ''\n",
    "    for idx,pp in enumerate(ppb.build_peptides(structure)):\n",
    "        sequence += pp.get_sequence()\n",
    "\n",
    "    return sequence\n"
   ]
  },
  {
   "cell_type": "code",
   "execution_count": 54,
   "metadata": {},
   "outputs": [],
   "source": [
    "scop_pdb_path = '../data/scop40pdb/pdb'\n",
    "fasta_sequences = dict()\n",
    "\n",
    "for file in os.listdir(scop_pdb_path):\n",
    "    pdb_path = os.path.join(scop_pdb_path,file)\n",
    "    sequence = extract_sequence(pdb_path)\n",
    "    fasta_sequences[file.split('.pdb')[0]] = sequence\n"
   ]
  },
  {
   "cell_type": "code",
   "execution_count": 56,
   "metadata": {},
   "outputs": [
    {
     "data": {
      "text/plain": [
       "11211"
      ]
     },
     "execution_count": 56,
     "metadata": {},
     "output_type": "execute_result"
    }
   ],
   "source": [
    "len(fasta_sequences)"
   ]
  },
  {
   "cell_type": "code",
   "execution_count": 57,
   "metadata": {},
   "outputs": [],
   "source": [
    "with open('../data/SCOPe40.fasta', 'w') as file:\n",
    "    for i in fasta_sequences:\n",
    "        file.write(f\">{i}\\n{fasta_sequences[i]}\\n\")"
   ]
  },
  {
   "cell_type": "code",
   "execution_count": null,
   "metadata": {},
   "outputs": [],
   "source": []
  }
 ],
 "metadata": {
  "kernelspec": {
   "display_name": "alphabeta",
   "language": "python",
   "name": "python3"
  },
  "language_info": {
   "codemirror_mode": {
    "name": "ipython",
    "version": 3
   },
   "file_extension": ".py",
   "mimetype": "text/x-python",
   "name": "python",
   "nbconvert_exporter": "python",
   "pygments_lexer": "ipython3",
   "version": "3.11.0"
  }
 },
 "nbformat": 4,
 "nbformat_minor": 2
}
